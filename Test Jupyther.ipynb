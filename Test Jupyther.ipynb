{
 "cells": [
  {
   "cell_type": "markdown",
   "metadata": {},
   "source": [
    "Prova di testo di un notebook Jupyter nel quale faremo una prova di import di un programma python da testare in una nuova cella."
   ]
  },
  {
   "cell_type": "code",
   "execution_count": 4,
   "metadata": {},
   "outputs": [
    {
     "name": "stdout",
     "output_type": "stream",
     "text": [
      "Lello\n",
      "Date: 21-08-2020 17-33-16\n",
      "Tempo trascorso 0.000375\n",
      "Immettere nome: lel\n",
      "l  e  l  "
     ]
    }
   ],
   "source": [
    "from Test import print_name as pn\n",
    "pn('Lello')\n",
    "\n",
    "from Test import starting as s\n",
    "s()\n"
   ]
  },
  {
   "cell_type": "markdown",
   "metadata": {},
   "source": [
    "Adesso testiamo invece l'algoritmo di ordinamento insertion sort e vediamo quali sono i tempi che impiega a ordinare array random"
   ]
  },
  {
   "cell_type": "code",
   "execution_count": 5,
   "metadata": {},
   "outputs": [
    {
     "name": "stdout",
     "output_type": "stream",
     "text": [
      "[4, 8, 5, 1, 9, 0, 6, 2, 7, 3]\n",
      "[0, 1, 2, 3, 4, 5, 6, 7, 8, 9]\n",
      "Tempo impiegato: 0.000019\n",
      "[8, 5, 0, 9, 2, 1, 4, 7, 3, 6]\n",
      "[0, 1, 2, 3, 4, 5, 6, 7, 8, 9]\n",
      "Tempo impiegato: 0.000018\n",
      "[3, 4, 1, 2, 0, 9, 5, 7, 8, 6]\n",
      "[0, 1, 2, 3, 4, 5, 6, 7, 8, 9]\n",
      "Tempo impiegato: 0.000010\n"
     ]
    }
   ],
   "source": [
    "from Insertionsort import insertion_sort as Is\n",
    "from Test import random_array\n",
    "\n",
    "A = random_array(10)\n",
    "B = random_array(10)\n",
    "C = random_array(10)\n",
    "\n",
    "Is(A)\n",
    "Is(B)\n",
    "Is(C)"
   ]
  },
  {
   "cell_type": "markdown",
   "metadata": {},
   "source": [
    "Vediamo come si comporta quando in ingresso ha degli array tutti ordinati in modo decrescente"
   ]
  },
  {
   "cell_type": "code",
   "execution_count": 6,
   "metadata": {},
   "outputs": [
    {
     "name": "stdout",
     "output_type": "stream",
     "text": [
      "[10, 9, 8, 7, 6, 5, 4, 3, 2, 1]\n",
      "[1, 2, 3, 4, 5, 6, 7, 8, 9, 10]\n",
      "Tempo impiegato: 0.000035\n",
      "[10, 9, 8, 7, 6, 5, 4, 3, 2, 1]\n",
      "[1, 2, 3, 4, 5, 6, 7, 8, 9, 10]\n",
      "Tempo impiegato: 0.000030\n",
      "[10, 9, 8, 7, 6, 5, 4, 3, 2, 1]\n",
      "[1, 2, 3, 4, 5, 6, 7, 8, 9, 10]\n",
      "Tempo impiegato: 0.000012\n"
     ]
    }
   ],
   "source": [
    "from Insertionsort import insertion_sort as Is\n",
    "\n",
    "A = []\n",
    "B = []\n",
    "C = []\n",
    "\n",
    "for i in range(10):\n",
    "    A.append(10-i)\n",
    "    B.append(10-i)\n",
    "    C.append(10-i)\n",
    "\n",
    "Is(A)\n",
    "Is(B)\n",
    "Is(C)"
   ]
  }
 ],
 "metadata": {
  "kernelspec": {
   "display_name": "Python 3",
   "language": "python",
   "name": "python3"
  },
  "language_info": {
   "codemirror_mode": {
    "name": "ipython",
    "version": 3
   },
   "file_extension": ".py",
   "mimetype": "text/x-python",
   "name": "python",
   "nbconvert_exporter": "python",
   "pygments_lexer": "ipython3",
   "version": "3.8.3"
  }
 },
 "nbformat": 4,
 "nbformat_minor": 4
}
